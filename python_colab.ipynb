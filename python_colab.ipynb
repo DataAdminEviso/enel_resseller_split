{
  "nbformat": 4,
  "nbformat_minor": 0,
  "metadata": {
    "colab": {
      "name": "python_colab",
      "provenance": [],
      "collapsed_sections": [],
      "authorship_tag": "ABX9TyNJmKKyZIFNfsgj75NPyfX7",
      "include_colab_link": true
    },
    "kernelspec": {
      "name": "python3",
      "display_name": "Python 3"
    }
  },
  "cells": [
    {
      "cell_type": "markdown",
      "metadata": {
        "id": "view-in-github",
        "colab_type": "text"
      },
      "source": [
        "<a href=\"https://colab.research.google.com/github/DataAdminEviso/enel_resseller_split/blob/master/python_colab.ipynb\" target=\"_parent\"><img src=\"https://colab.research.google.com/assets/colab-badge.svg\" alt=\"Open In Colab\"/></a>"
      ]
    },
    {
      "cell_type": "code",
      "metadata": {
        "id": "v8SObo5ZPWJy",
        "colab_type": "code",
        "colab": {}
      },
      "source": [
        "test\n"
      ],
      "execution_count": 0,
      "outputs": []
    }
  ]
}